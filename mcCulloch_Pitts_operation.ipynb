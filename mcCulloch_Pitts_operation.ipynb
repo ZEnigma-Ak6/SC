{
  "nbformat": 4,
  "nbformat_minor": 0,
  "metadata": {
    "colab": {
      "provenance": []
    },
    "kernelspec": {
      "name": "python3",
      "display_name": "Python 3"
    },
    "language_info": {
      "name": "python"
    }
  },
  "cells": [
    {
      "cell_type": "code",
      "execution_count": null,
      "metadata": {
        "id": "cFt4eDJBgC4b"
      },
      "outputs": [],
      "source": [
        "or gate\n",
        " x1  x2  t\n",
        " 0   1   1\n",
        " 1   0   1\n",
        " 0   0   0\n",
        " 1   1   0\n",
        "\n",
        " Andnot\n",
        " x1  x2  t\n",
        " 1   1  -1\n",
        " 1  -1   1\n",
        "-1   1  -1\n",
        "-1  -1  -1\n",
        "\n",
        "And gate\n",
        " x1  x2  t\n",
        " 0   0   0\n",
        " 1   0   0\n",
        " 0   1   0\n",
        " 1   1   1\n",
        "\n",
        " Xor\n",
        " x1  x2  t\n",
        " 0   0   0\n",
        " 1   0   1\n",
        " 0   1   1\n",
        " 1   1   0\n",
        "\n",
        " Nor\n",
        " x1  x2  t\n",
        " 0   0   1\n",
        " 1   0   0\n",
        " 0   1   0\n",
        " 1   1   0\n",
        "\n",
        "\n",
        " def binary_step(x):\n",
        "   th = 0.1\n",
        "    if x < 0:\n",
        "        return 0\n",
        "    else:\n",
        "        return 1\n",
        "\n",
        "\n",
        "def binary_sig(x,lamda=1):\n",
        "    return 1/(1+np.exp(-lamda*x))\n",
        "\n",
        "def bipolar_sig(x):\n",
        "    return  return (1 - np.exp(-x)) / (1 + np.exp(-x))\n",
        "\n"
      ]
    },
    {
      "cell_type": "code",
      "source": [
        "#or function using mP neuron \n",
        "import numpy as np\n",
        "import matplotlib.pyplot as plt\n",
        "\n",
        "X = [[0,0],[0,1],[1,0],[1,1]]\n",
        "W = np.array([1,1])\n",
        "x = np.array(X)\n",
        "\n",
        "def predict(x,w):\n",
        "  sum = np.sum(x)\n",
        "  if sum>=1:\n",
        "    return 1\n",
        "  else:\n",
        "   return 0\n",
        "\n",
        "for e in X:\n",
        "  y = predict(e,W)\n",
        "  print(y)"
      ],
      "metadata": {
        "colab": {
          "base_uri": "https://localhost:8080/"
        },
        "id": "k23ghyrpmu9C",
        "outputId": "a17f5b9d-a307-4429-e617-63a8c04f717a"
      },
      "execution_count": 10,
      "outputs": [
        {
          "output_type": "stream",
          "name": "stdout",
          "text": [
            "0\n",
            "1\n",
            "1\n",
            "1\n"
          ]
        }
      ]
    },
    {
      "cell_type": "code",
      "source": [
        "#Nor function using mP neuron \n",
        "import numpy as np\n",
        "import matplotlib.pyplot as plt\n",
        "\n",
        "X = [[0,0],[0,1],[1,0],[1,1]]\n",
        "W = np.array([1,1])\n",
        "x = np.array(X)\n",
        "\n",
        "def predict(x,w):\n",
        "  sum = np.sum(w*x)\n",
        "  if sum==0:\n",
        "    return 1\n",
        "  else:\n",
        "   return 0\n",
        "\n",
        "for e in X:\n",
        "  y = predict(e,W)\n",
        "  print(y)"
      ],
      "metadata": {
        "colab": {
          "base_uri": "https://localhost:8080/"
        },
        "id": "x5c5oYNJn-2Z",
        "outputId": "04f6d76a-36d1-4ef4-bab8-6db1567845bd"
      },
      "execution_count": 13,
      "outputs": [
        {
          "output_type": "stream",
          "name": "stdout",
          "text": [
            "1\n",
            "0\n",
            "0\n",
            "0\n"
          ]
        }
      ]
    },
    {
      "cell_type": "code",
      "source": [
        "#And function using mP neuron \n",
        "import numpy as np\n",
        "import matplotlib.pyplot as plt\n",
        "\n",
        "X = [[0,0],[0,1],[1,0],[1,1]]\n",
        "W = np.array([1,1])\n",
        "x = np.array(X)\n",
        "\n",
        "def predict(x,w):\n",
        "  sum = np.sum(w*x)\n",
        "  if sum==2:\n",
        "    return 1\n",
        "  else:\n",
        "   return 0\n",
        "\n",
        "for e in X:\n",
        "  y = predict(e,W)\n",
        "  print(y)"
      ],
      "metadata": {
        "id": "gOe_l8uFr77K"
      },
      "execution_count": null,
      "outputs": []
    },
    {
      "cell_type": "code",
      "source": [
        "#Xor function using mP neuron \n",
        "import numpy as np\n",
        "import matplotlib.pyplot as plt\n",
        "\n",
        "X = [[0,0],[0,1],[1,0],[1,1]]\n",
        "W = np.array([1,1])\n",
        "x = np.array(X)\n",
        "\n",
        "def predict(x,w):\n",
        "  sum = np.sum(w*x)\n",
        "  if sum==1:\n",
        "    return 1\n",
        "  else:\n",
        "   return 0\n",
        "\n",
        "for e in X:\n",
        "  y = predict(e,W)\n",
        "  print(y)"
      ],
      "metadata": {
        "colab": {
          "base_uri": "https://localhost:8080/"
        },
        "id": "AkPA89aLp6HH",
        "outputId": "6e382f34-db28-4665-f02e-8a7457c06f2a"
      },
      "execution_count": 9,
      "outputs": [
        {
          "output_type": "stream",
          "name": "stdout",
          "text": [
            "0\n",
            "1\n",
            "1\n",
            "0\n"
          ]
        }
      ]
    },
    {
      "cell_type": "code",
      "source": [
        "#And function using mP neuron \n",
        "import numpy as np\n",
        "import matplotlib.pyplot as plt\n",
        "\n",
        "X = [[0,0],[0,1],[1,0],[1,1]]\n",
        "W = np.array([1,1])\n",
        "x = np.array(X)\n",
        "\n",
        "def predict(x,w):\n",
        "  sum = np.sum(w*x)\n",
        "  if sum==1:\n",
        "     if x[0]==1 and x[1]==0 :\n",
        "        return 1\n",
        "     else:\n",
        "        return 0\n",
        "  else:\n",
        "    return 0\n",
        "\n",
        "for e in X:\n",
        "  y = predict(e,W)\n",
        "  print(y)"
      ],
      "metadata": {
        "colab": {
          "base_uri": "https://localhost:8080/"
        },
        "id": "o6ILw4kaspfA",
        "outputId": "941f65fe-a3b2-4754-ebb7-0eb6927c7d31"
      },
      "execution_count": 23,
      "outputs": [
        {
          "output_type": "stream",
          "name": "stdout",
          "text": [
            "0\n",
            "0\n",
            "1\n",
            "0\n"
          ]
        }
      ]
    },
    {
      "cell_type": "markdown",
      "source": [],
      "metadata": {
        "id": "CWqDOdSqgDzJ"
      }
    }
  ]
}